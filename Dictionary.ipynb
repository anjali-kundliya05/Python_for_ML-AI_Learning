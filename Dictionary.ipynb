{
 "cells": [
  {
   "cell_type": "code",
   "execution_count": 1,
   "id": "3d3ecde9",
   "metadata": {},
   "outputs": [],
   "source": [
    "dct={\"Name\":\"Anjali\",\"English\":90,\"Maths\":80}"
   ]
  },
  {
   "cell_type": "code",
   "execution_count": 2,
   "id": "9fa4cd6f",
   "metadata": {},
   "outputs": [
    {
     "data": {
      "text/plain": [
       "{'Name': 'Anjali', 'English': 90, 'Maths': 80}"
      ]
     },
     "execution_count": 2,
     "metadata": {},
     "output_type": "execute_result"
    }
   ],
   "source": [
    "dct"
   ]
  },
  {
   "cell_type": "code",
   "execution_count": 3,
   "id": "a5ceb2ba",
   "metadata": {},
   "outputs": [
    {
     "data": {
      "text/plain": [
       "90"
      ]
     },
     "execution_count": 3,
     "metadata": {},
     "output_type": "execute_result"
    }
   ],
   "source": [
    "dct[\"English\"]"
   ]
  },
  {
   "cell_type": "code",
   "execution_count": 4,
   "id": "c8ad8f7b",
   "metadata": {},
   "outputs": [
    {
     "data": {
      "text/plain": [
       "dict_keys(['Name', 'English', 'Maths'])"
      ]
     },
     "execution_count": 4,
     "metadata": {},
     "output_type": "execute_result"
    }
   ],
   "source": [
    "dct.keys()"
   ]
  },
  {
   "cell_type": "code",
   "execution_count": 5,
   "id": "f52869e6",
   "metadata": {},
   "outputs": [
    {
     "data": {
      "text/plain": [
       "dict_values(['Anjali', 90, 80])"
      ]
     },
     "execution_count": 5,
     "metadata": {},
     "output_type": "execute_result"
    }
   ],
   "source": [
    "dct.values()"
   ]
  },
  {
   "cell_type": "code",
   "execution_count": 7,
   "id": "63e219ce",
   "metadata": {},
   "outputs": [],
   "source": [
    "dct={2020306:{\"Name\":\"Anjali\",\"English\":90,\"Maths\":80}, 2020305:{\"Name\":\"Ayushi\",\"English\":80,\"Maths\":70}}"
   ]
  },
  {
   "cell_type": "code",
   "execution_count": 8,
   "id": "4b06111d",
   "metadata": {},
   "outputs": [
    {
     "data": {
      "text/plain": [
       "{2020306: {'Name': 'Anjali', 'English': 90, 'Maths': 80},\n",
       " 2020305: {'Name': 'Ayushi', 'English': 80, 'Maths': 70}}"
      ]
     },
     "execution_count": 8,
     "metadata": {},
     "output_type": "execute_result"
    }
   ],
   "source": [
    "dct"
   ]
  },
  {
   "cell_type": "code",
   "execution_count": 9,
   "id": "c42f8683",
   "metadata": {},
   "outputs": [
    {
     "data": {
      "text/plain": [
       "{'Name': 'Anjali', 'English': 90, 'Maths': 80}"
      ]
     },
     "execution_count": 9,
     "metadata": {},
     "output_type": "execute_result"
    }
   ],
   "source": [
    "dct[2020306]"
   ]
  },
  {
   "cell_type": "code",
   "execution_count": 10,
   "id": "c57e0f57",
   "metadata": {},
   "outputs": [
    {
     "data": {
      "text/plain": [
       "'Anjali'"
      ]
     },
     "execution_count": 10,
     "metadata": {},
     "output_type": "execute_result"
    }
   ],
   "source": [
    "dct[2020306]['Name']"
   ]
  },
  {
   "cell_type": "code",
   "execution_count": 11,
   "id": "9242c67e",
   "metadata": {},
   "outputs": [],
   "source": [
    "dct[2020306]['English']=95"
   ]
  },
  {
   "cell_type": "code",
   "execution_count": 12,
   "id": "f34c53d3",
   "metadata": {},
   "outputs": [
    {
     "data": {
      "text/plain": [
       "{2020306: {'Name': 'Anjali', 'English': 95, 'Maths': 80},\n",
       " 2020305: {'Name': 'Ayushi', 'English': 80, 'Maths': 70}}"
      ]
     },
     "execution_count": 12,
     "metadata": {},
     "output_type": "execute_result"
    }
   ],
   "source": [
    "dct"
   ]
  },
  {
   "cell_type": "code",
   "execution_count": null,
   "id": "1ffd36dd",
   "metadata": {},
   "outputs": [],
   "source": []
  }
 ],
 "metadata": {
  "kernelspec": {
   "display_name": "Python 3",
   "language": "python",
   "name": "python3"
  },
  "language_info": {
   "codemirror_mode": {
    "name": "ipython",
    "version": 3
   },
   "file_extension": ".py",
   "mimetype": "text/x-python",
   "name": "python",
   "nbconvert_exporter": "python",
   "pygments_lexer": "ipython3",
   "version": "3.8.8"
  }
 },
 "nbformat": 4,
 "nbformat_minor": 5
}
