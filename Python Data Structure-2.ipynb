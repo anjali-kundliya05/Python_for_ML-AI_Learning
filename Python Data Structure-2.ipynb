{
 "cells": [
  {
   "cell_type": "code",
   "execution_count": 1,
   "id": "79b2c41b",
   "metadata": {},
   "outputs": [],
   "source": [
    "namestu=[]\n",
    "eng=[]\n",
    "hin=[]\n",
    "math=[]\n",
    "sci=[]\n",
    "sst=[]"
   ]
  },
  {
   "cell_type": "code",
   "execution_count": 2,
   "id": "ce5aea16",
   "metadata": {},
   "outputs": [
    {
     "data": {
      "text/plain": [
       "[]"
      ]
     },
     "execution_count": 2,
     "metadata": {},
     "output_type": "execute_result"
    }
   ],
   "source": [
    "namestu"
   ]
  },
  {
   "cell_type": "code",
   "execution_count": 3,
   "id": "1b9e1f0c",
   "metadata": {},
   "outputs": [
    {
     "name": "stdout",
     "output_type": "stream",
     "text": [
      "Enter the number of students: 3\n",
      "Enter the name of student: Anjali\n",
      "Enter marks of english: 90\n",
      "Enter marks of hindi: 95\n",
      "Enter marks of maths: 87\n",
      "Enter marks of science: 90\n",
      "Enter marks of sst: 87\n",
      "['Anjali']\n",
      "Enter the name of student: Rahul\n",
      "Enter marks of english: 89\n",
      "Enter marks of hindi: 76\n",
      "Enter marks of maths: 65\n",
      "Enter marks of science: 70\n",
      "Enter marks of sst: 80\n",
      "['Anjali', 'Rahul']\n",
      "Enter the name of student: Himanshi\n",
      "Enter marks of english: 93\n",
      "Enter marks of hindi: 67\n",
      "Enter marks of maths: 58\n",
      "Enter marks of science: 60\n",
      "Enter marks of sst: 70\n",
      "['Anjali', 'Rahul', 'Himanshi']\n"
     ]
    }
   ],
   "source": [
    "names_of_students=int(input(\"Enter the number of students: \"))\n",
    "\n",
    "for i in range(names_of_students):\n",
    "    namestu.append(input(\"Enter the name of student: \"))\n",
    "    eng.append(input(\"Enter marks of english: \"))\n",
    "    hin.append(input(\"Enter marks of hindi: \"))\n",
    "    math.append(input(\"Enter marks of maths: \"))\n",
    "    sci.append(input(\"Enter marks of science: \"))\n",
    "    sst.append(input(\"Enter marks of sst: \"))\n",
    "    print(namestu)"
   ]
  },
  {
   "cell_type": "code",
   "execution_count": 4,
   "id": "80a38958",
   "metadata": {},
   "outputs": [
    {
     "data": {
      "text/plain": [
       "['Anjali', 'Rahul', 'Himanshi']"
      ]
     },
     "execution_count": 4,
     "metadata": {},
     "output_type": "execute_result"
    }
   ],
   "source": [
    "namestu"
   ]
  },
  {
   "cell_type": "code",
   "execution_count": 5,
   "id": "1560a2fb",
   "metadata": {},
   "outputs": [
    {
     "data": {
      "text/plain": [
       "['90', '89', '93']"
      ]
     },
     "execution_count": 5,
     "metadata": {},
     "output_type": "execute_result"
    }
   ],
   "source": [
    "eng"
   ]
  },
  {
   "cell_type": "code",
   "execution_count": 6,
   "id": "842934b1",
   "metadata": {},
   "outputs": [
    {
     "data": {
      "text/plain": [
       "['95', '76', '67']"
      ]
     },
     "execution_count": 6,
     "metadata": {},
     "output_type": "execute_result"
    }
   ],
   "source": [
    "hin"
   ]
  },
  {
   "cell_type": "code",
   "execution_count": 7,
   "id": "365f5ba6",
   "metadata": {},
   "outputs": [
    {
     "data": {
      "text/plain": [
       "['87', '65', '58']"
      ]
     },
     "execution_count": 7,
     "metadata": {},
     "output_type": "execute_result"
    }
   ],
   "source": [
    "math"
   ]
  },
  {
   "cell_type": "code",
   "execution_count": 8,
   "id": "97e5338b",
   "metadata": {},
   "outputs": [
    {
     "data": {
      "text/plain": [
       "['90', '70', '60']"
      ]
     },
     "execution_count": 8,
     "metadata": {},
     "output_type": "execute_result"
    }
   ],
   "source": [
    "sci"
   ]
  },
  {
   "cell_type": "code",
   "execution_count": 9,
   "id": "ea43472b",
   "metadata": {},
   "outputs": [
    {
     "data": {
      "text/plain": [
       "['87', '80', '70']"
      ]
     },
     "execution_count": 9,
     "metadata": {},
     "output_type": "execute_result"
    }
   ],
   "source": [
    "sst"
   ]
  },
  {
   "cell_type": "code",
   "execution_count": 10,
   "id": "6ebc2d6b",
   "metadata": {},
   "outputs": [],
   "source": [
    "data=[namestu, eng, hin, math, sci, sst]"
   ]
  },
  {
   "cell_type": "code",
   "execution_count": 11,
   "id": "1825b59a",
   "metadata": {},
   "outputs": [
    {
     "data": {
      "text/plain": [
       "[['Anjali', 'Rahul', 'Himanshi'],\n",
       " ['90', '89', '93'],\n",
       " ['95', '76', '67'],\n",
       " ['87', '65', '58'],\n",
       " ['90', '70', '60'],\n",
       " ['87', '80', '70']]"
      ]
     },
     "execution_count": 11,
     "metadata": {},
     "output_type": "execute_result"
    }
   ],
   "source": [
    "data"
   ]
  },
  {
   "cell_type": "code",
   "execution_count": 12,
   "id": "ad293b89",
   "metadata": {},
   "outputs": [
    {
     "data": {
      "text/plain": [
       "['Anjali', 'Rahul', 'Himanshi']"
      ]
     },
     "execution_count": 12,
     "metadata": {},
     "output_type": "execute_result"
    }
   ],
   "source": [
    "data[0]"
   ]
  },
  {
   "cell_type": "code",
   "execution_count": 13,
   "id": "f2e6a92f",
   "metadata": {},
   "outputs": [
    {
     "data": {
      "text/plain": [
       "'Anjali'"
      ]
     },
     "execution_count": 13,
     "metadata": {},
     "output_type": "execute_result"
    }
   ],
   "source": [
    "data[0][0]"
   ]
  },
  {
   "cell_type": "code",
   "execution_count": 14,
   "id": "b73ed747",
   "metadata": {},
   "outputs": [
    {
     "data": {
      "text/plain": [
       "'Himanshi'"
      ]
     },
     "execution_count": 14,
     "metadata": {},
     "output_type": "execute_result"
    }
   ],
   "source": [
    "data[0][2]"
   ]
  },
  {
   "cell_type": "code",
   "execution_count": 15,
   "id": "81e1bbbf",
   "metadata": {},
   "outputs": [
    {
     "data": {
      "text/plain": [
       "6"
      ]
     },
     "execution_count": 15,
     "metadata": {},
     "output_type": "execute_result"
    }
   ],
   "source": [
    "len(data)"
   ]
  },
  {
   "cell_type": "code",
   "execution_count": 16,
   "id": "42b2f71f",
   "metadata": {},
   "outputs": [
    {
     "data": {
      "text/plain": [
       "'93'"
      ]
     },
     "execution_count": 16,
     "metadata": {},
     "output_type": "execute_result"
    }
   ],
   "source": [
    "data[1][2]"
   ]
  },
  {
   "cell_type": "code",
   "execution_count": 17,
   "id": "90b7b0f2",
   "metadata": {},
   "outputs": [
    {
     "name": "stdout",
     "output_type": "stream",
     "text": [
      "Anjali\n",
      "Rahul\n",
      "Himanshi\n"
     ]
    }
   ],
   "source": [
    "for i in range(len(data[0])):\n",
    "    print(data[0][i])"
   ]
  },
  {
   "cell_type": "code",
   "execution_count": null,
   "id": "8a1c3f80",
   "metadata": {},
   "outputs": [],
   "source": []
  }
 ],
 "metadata": {
  "kernelspec": {
   "display_name": "Python 3",
   "language": "python",
   "name": "python3"
  },
  "language_info": {
   "codemirror_mode": {
    "name": "ipython",
    "version": 3
   },
   "file_extension": ".py",
   "mimetype": "text/x-python",
   "name": "python",
   "nbconvert_exporter": "python",
   "pygments_lexer": "ipython3",
   "version": "3.8.8"
  }
 },
 "nbformat": 4,
 "nbformat_minor": 5
}
