{
 "cells": [
  {
   "cell_type": "code",
   "execution_count": 1,
   "id": "d173274d",
   "metadata": {},
   "outputs": [],
   "source": [
    "import time\n",
    "import json"
   ]
  },
  {
   "cell_type": "code",
   "execution_count": 2,
   "id": "7c9edd88",
   "metadata": {},
   "outputs": [],
   "source": [
    "sales={}\n",
    "\n",
    "sales['1']={\"prod_id\" : 1002, \"time_pr\" : time.ctime(), \"bill\" : 5000, \"qn\" : 5, \"pr\" : 1000, \"pr_name\" : \"Cake\"}\n",
    "sales['2']={\"prod_id\" : 1002, \"time_pr\" : time.ctime(), \"bill\" : 1000, \"qn\" : 5, \"pr\" : 1000, \"pr_name\" : \"Cake\"}\n",
    "sales['3']={\"prod_id\" : 1002, \"time_pr\" : time.ctime(), \"bill\" : 1000, \"qn\" : 5, \"pr\" : 1000, \"pr_name\" : \"Cake\"}"
   ]
  },
  {
   "cell_type": "code",
   "execution_count": 3,
   "id": "db58335f",
   "metadata": {},
   "outputs": [
    {
     "data": {
      "text/plain": [
       "{'1': {'prod_id': 1002,\n",
       "  'time_pr': 'Thu Sep  9 21:40:16 2021',\n",
       "  'bill': 5000,\n",
       "  'qn': 5,\n",
       "  'pr': 1000,\n",
       "  'pr_name': 'Cake'},\n",
       " '2': {'prod_id': 1002,\n",
       "  'time_pr': 'Thu Sep  9 21:40:16 2021',\n",
       "  'bill': 1000,\n",
       "  'qn': 5,\n",
       "  'pr': 1000,\n",
       "  'pr_name': 'Cake'},\n",
       " '3': {'prod_id': 1002,\n",
       "  'time_pr': 'Thu Sep  9 21:40:16 2021',\n",
       "  'bill': 1000,\n",
       "  'qn': 5,\n",
       "  'pr': 1000,\n",
       "  'pr_name': 'Cake'}}"
      ]
     },
     "execution_count": 3,
     "metadata": {},
     "output_type": "execute_result"
    }
   ],
   "source": [
    "sales"
   ]
  },
  {
   "cell_type": "code",
   "execution_count": 4,
   "id": "9bd89e0f",
   "metadata": {},
   "outputs": [
    {
     "data": {
      "text/plain": [
       "3"
      ]
     },
     "execution_count": 4,
     "metadata": {},
     "output_type": "execute_result"
    }
   ],
   "source": [
    "len(sales)"
   ]
  },
  {
   "cell_type": "code",
   "execution_count": 5,
   "id": "5a1f19c0",
   "metadata": {},
   "outputs": [
    {
     "data": {
      "text/plain": [
       "'4'"
      ]
     },
     "execution_count": 5,
     "metadata": {},
     "output_type": "execute_result"
    }
   ],
   "source": [
    "str(len(sales)+1)"
   ]
  },
  {
   "cell_type": "code",
   "execution_count": 6,
   "id": "6c087bee",
   "metadata": {},
   "outputs": [],
   "source": [
    "sales={}\n",
    "sales=json.dumps(sales)\n",
    "fd= open(\"Sales.json\",\"w\")\n",
    "fd.write(sales)\n",
    "fd.close()"
   ]
  },
  {
   "cell_type": "code",
   "execution_count": 7,
   "id": "964570b2",
   "metadata": {},
   "outputs": [],
   "source": [
    "fd=open(\"Sales.json\",\"r\")\n",
    "fd.read()\n",
    "fd.close()"
   ]
  },
  {
   "cell_type": "code",
   "execution_count": null,
   "id": "9ef40f0e",
   "metadata": {},
   "outputs": [],
   "source": [
    "#Loading Inventory and converting it into Dictionary\n",
    "fd=open(\"record.json\",\"r\")\n",
    "t=fd.read()\n",
    "fd.close()\n",
    "dct=json.loads(t)\n",
    "\n",
    "#Loading Sales and converting it into Dictionary\n",
    "fd=open(\"Sales.json\",\"r\")\n",
    "s1=fd.read()\n",
    "fd.close()\n",
    "sales=json.loads(s1)\n",
    "\n",
    "#Displaying Menu\n",
    "print(\"*********************************\")\n",
    "for i in dct.keys():\n",
    "    print(i,dct[i])\n",
    "print(\"*********************************\\n\")\n",
    "\n",
    "#Taking input from user what he/she wants to purchase\n",
    "ui_prod=int(input(\"Enter the product id: \"))\n",
    "ui_quant=int(input(\"Enter the quantity: \"))\n",
    "if(ui_prod in dct.keys()):\n",
    "    if(dct[ui_prod]['qn'] >= ui_quant):\n",
    "        print(\"Name: \",dct[ui_prod][\"name\"])\n",
    "        print(\"Price: \",dct[ui_prod][\"pr\"])\n",
    "        print(\"Quantity: \",ui_quant)\n",
    "        print(\"*********************************\")\n",
    "        print(\"Billing Amount: \",dct[ui_prod][\"pr\"]*[ui_quant])\n",
    "        dct[ui_prod][\"qn\"]=dct[ui_prod][\"qn\"]-ui_quant\n",
    "        \n",
    "        sales[str(len(sales)+1)]={\"prod_id:\" : ui_prod,\n",
    "                                  \"time_pr:\" : time.ctime(),\n",
    "                                  \"bill:\" : dct[ui_prod][\"pr\"]*[ui_quant],\n",
    "                                  \"qn:\" : ui_quant,\n",
    "                                  \"pr:\" : dct[ui_prod][\"pr\"],\n",
    "                                  \"pr_name:\": dct[ui_prod][\"name\"]}\n",
    "    else:\n",
    "        print(\"Sorry, we don't have that much of quantity\")\n",
    "        print(\"We are having \",dct[ui_prod][\"qn\"], \"quantity.\")\n",
    "        print(\"Would you like to purchase or not(Y/N)\")\n",
    "        ch=str(input(\"Y/N\"))\n",
    "    \n",
    "        if(ch==\"Y\"):\n",
    "            print(\"Name: \",dct[ui_prod][\"name\"])\n",
    "            print(\"Price: \",dct[ui_prod][\"pr\"])\n",
    "            print(\"Quantity: \",ui_quant)\n",
    "            print(\"*********************************\")\n",
    "            print(\"Billing Amount: \",dct[ui_prod][\"pr\"]*[ui_quant])\n",
    "            dct[ui_prod][\"qn\"]=0\n",
    "        \n",
    "            sales[str(len(sales)+1)]={\"prod_id:\" : ui_prod,\n",
    "                                      \"time_pr:\" : time.ctime(),\n",
    "                                      \"bill:\" : dct[ui_prod][\"pr\"]*dct[ui_prod][\"qn\"],\n",
    "                                      \"qn:\" : ui_quant,\n",
    "                                      \"pr:\" : dct[ui_prod][\"pr\"],\n",
    "                                      \"pr_name:\": dct[ui_prod][\"name\"]}\n",
    "        else:\n",
    "            print(\"Thank You!!\")\n",
    "else:\n",
    "    print(\"*********************************\")\n",
    "    print(\"Product doesn't exist\")\n",
    "    print(\"Please enter a valid product id.\")\n",
    "    print(\"*********************************\\n\")\n",
    "    \n",
    "s1=json.dumps(sales)\n",
    "fd= open(\"Sales.json\",\"w\")\n",
    "fd.write(s1)\n",
    "fd.close()\n",
    "print(\"*********************************\")\n",
    "print(\"Data updated in Sales Files!\")\n",
    "js=json.dumps(sales)\n",
    "fd= open(\"record.json\",\"w\")\n",
    "fd.write(js)\n",
    "fd.close()\n",
    "print(\"Data updated in Inventory Files!\")"
   ]
  }
 ],
 "metadata": {
  "kernelspec": {
   "display_name": "Python 3",
   "language": "python",
   "name": "python3"
  },
  "language_info": {
   "codemirror_mode": {
    "name": "ipython",
    "version": 3
   },
   "file_extension": ".py",
   "mimetype": "text/x-python",
   "name": "python",
   "nbconvert_exporter": "python",
   "pygments_lexer": "ipython3",
   "version": "3.8.8"
  }
 },
 "nbformat": 4,
 "nbformat_minor": 5
}
