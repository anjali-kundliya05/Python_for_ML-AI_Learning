{
 "cells": [
  {
   "cell_type": "code",
   "execution_count": 1,
   "id": "8604b43e",
   "metadata": {},
   "outputs": [],
   "source": [
    "#string->int\n",
    "#string->float\n",
    "#string->boolean"
   ]
  },
  {
   "cell_type": "code",
   "execution_count": 2,
   "id": "ca8fab5f",
   "metadata": {},
   "outputs": [],
   "source": [
    "var1='123'"
   ]
  },
  {
   "cell_type": "code",
   "execution_count": 4,
   "id": "bb2a7d2b",
   "metadata": {},
   "outputs": [
    {
     "data": {
      "text/plain": [
       "str"
      ]
     },
     "execution_count": 4,
     "metadata": {},
     "output_type": "execute_result"
    }
   ],
   "source": [
    "type(var1)"
   ]
  },
  {
   "cell_type": "code",
   "execution_count": 5,
   "id": "e9b90883",
   "metadata": {},
   "outputs": [],
   "source": [
    "var2=int(var1)"
   ]
  },
  {
   "cell_type": "code",
   "execution_count": 6,
   "id": "1d59f92d",
   "metadata": {},
   "outputs": [
    {
     "data": {
      "text/plain": [
       "123"
      ]
     },
     "execution_count": 6,
     "metadata": {},
     "output_type": "execute_result"
    }
   ],
   "source": [
    "var2"
   ]
  },
  {
   "cell_type": "code",
   "execution_count": 7,
   "id": "3d6ab700",
   "metadata": {},
   "outputs": [
    {
     "data": {
      "text/plain": [
       "int"
      ]
     },
     "execution_count": 7,
     "metadata": {},
     "output_type": "execute_result"
    }
   ],
   "source": [
    "type(var2)"
   ]
  },
  {
   "cell_type": "code",
   "execution_count": 8,
   "id": "fcbd77a3",
   "metadata": {},
   "outputs": [],
   "source": [
    "var3='134.205'"
   ]
  },
  {
   "cell_type": "code",
   "execution_count": 9,
   "id": "34e06f4d",
   "metadata": {},
   "outputs": [
    {
     "data": {
      "text/plain": [
       "str"
      ]
     },
     "execution_count": 9,
     "metadata": {},
     "output_type": "execute_result"
    }
   ],
   "source": [
    "type(var3)"
   ]
  },
  {
   "cell_type": "code",
   "execution_count": 11,
   "id": "14d2ea5e",
   "metadata": {},
   "outputs": [],
   "source": [
    "var4=float(var3)"
   ]
  },
  {
   "cell_type": "code",
   "execution_count": 12,
   "id": "5fbc5814",
   "metadata": {},
   "outputs": [
    {
     "data": {
      "text/plain": [
       "134.205"
      ]
     },
     "execution_count": 12,
     "metadata": {},
     "output_type": "execute_result"
    }
   ],
   "source": [
    "var4"
   ]
  },
  {
   "cell_type": "code",
   "execution_count": 13,
   "id": "0e6c9a95",
   "metadata": {},
   "outputs": [
    {
     "data": {
      "text/plain": [
       "float"
      ]
     },
     "execution_count": 13,
     "metadata": {},
     "output_type": "execute_result"
    }
   ],
   "source": [
    "type(var4)"
   ]
  },
  {
   "cell_type": "code",
   "execution_count": 14,
   "id": "594f4f20",
   "metadata": {},
   "outputs": [],
   "source": [
    "var6=bool(var3)"
   ]
  },
  {
   "cell_type": "code",
   "execution_count": 15,
   "id": "502d0252",
   "metadata": {},
   "outputs": [
    {
     "data": {
      "text/plain": [
       "True"
      ]
     },
     "execution_count": 15,
     "metadata": {},
     "output_type": "execute_result"
    }
   ],
   "source": [
    "var6"
   ]
  },
  {
   "cell_type": "code",
   "execution_count": 16,
   "id": "72b83c95",
   "metadata": {},
   "outputs": [],
   "source": [
    "#int->string\n",
    "#int->float\n",
    "#int->boolean"
   ]
  },
  {
   "cell_type": "code",
   "execution_count": 17,
   "id": "ab4bfc61",
   "metadata": {},
   "outputs": [],
   "source": [
    "var1=123"
   ]
  },
  {
   "cell_type": "code",
   "execution_count": 18,
   "id": "3127068b",
   "metadata": {},
   "outputs": [
    {
     "data": {
      "text/plain": [
       "123.0"
      ]
     },
     "execution_count": 18,
     "metadata": {},
     "output_type": "execute_result"
    }
   ],
   "source": [
    "float(var1)"
   ]
  },
  {
   "cell_type": "code",
   "execution_count": 19,
   "id": "15b7a4c0",
   "metadata": {},
   "outputs": [
    {
     "data": {
      "text/plain": [
       "True"
      ]
     },
     "execution_count": 19,
     "metadata": {},
     "output_type": "execute_result"
    }
   ],
   "source": [
    "bool(var1)"
   ]
  },
  {
   "cell_type": "code",
   "execution_count": 20,
   "id": "9420c246",
   "metadata": {},
   "outputs": [],
   "source": [
    "#float->int"
   ]
  },
  {
   "cell_type": "code",
   "execution_count": 21,
   "id": "b1dba66e",
   "metadata": {},
   "outputs": [],
   "source": [
    "var=22.0/7"
   ]
  },
  {
   "cell_type": "code",
   "execution_count": 22,
   "id": "42125ae8",
   "metadata": {},
   "outputs": [
    {
     "data": {
      "text/plain": [
       "3.142857142857143"
      ]
     },
     "execution_count": 22,
     "metadata": {},
     "output_type": "execute_result"
    }
   ],
   "source": [
    "var"
   ]
  },
  {
   "cell_type": "code",
   "execution_count": 23,
   "id": "b57bb05f",
   "metadata": {},
   "outputs": [
    {
     "data": {
      "text/plain": [
       "3"
      ]
     },
     "execution_count": 23,
     "metadata": {},
     "output_type": "execute_result"
    }
   ],
   "source": [
    "int(var)"
   ]
  },
  {
   "cell_type": "code",
   "execution_count": null,
   "id": "620befd0",
   "metadata": {},
   "outputs": [],
   "source": []
  }
 ],
 "metadata": {
  "kernelspec": {
   "display_name": "Python 3",
   "language": "python",
   "name": "python3"
  },
  "language_info": {
   "codemirror_mode": {
    "name": "ipython",
    "version": 3
   },
   "file_extension": ".py",
   "mimetype": "text/x-python",
   "name": "python",
   "nbconvert_exporter": "python",
   "pygments_lexer": "ipython3",
   "version": "3.8.8"
  }
 },
 "nbformat": 4,
 "nbformat_minor": 5
}
