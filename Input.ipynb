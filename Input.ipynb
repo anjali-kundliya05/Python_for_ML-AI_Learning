{
 "cells": [
  {
   "cell_type": "code",
   "execution_count": 11,
   "id": "92372710",
   "metadata": {},
   "outputs": [
    {
     "name": "stdout",
     "output_type": "stream",
     "text": [
      "Enter number one: 4\n",
      "Enter number two: 5\n"
     ]
    }
   ],
   "source": [
    "num1=int(input(\"Enter number one: \"))\n",
    "num2=int(input(\"Enter number two: \"))"
   ]
  },
  {
   "cell_type": "code",
   "execution_count": 12,
   "id": "eb1f8dea",
   "metadata": {},
   "outputs": [
    {
     "name": "stdout",
     "output_type": "stream",
     "text": [
      "Addition:  9\n",
      "Subtraction:  -1\n",
      "Multiplication:  20\n",
      "Division:  0.8\n",
      "Modulus:  4\n",
      "Power:  1024\n"
     ]
    }
   ],
   "source": [
    "print(\"Addition: \",num1+num2)\n",
    "print(\"Subtraction: \",num1-num2)\n",
    "print(\"Multiplication: \",num1*num2)\n",
    "print(\"Division: \",num1/num2)\n",
    "print(\"Modulus: \",num1%num2)\n",
    "print(\"Power: \",num1**num2)"
   ]
  },
  {
   "cell_type": "code",
   "execution_count": 2,
   "id": "fcb45e53",
   "metadata": {},
   "outputs": [
    {
     "data": {
      "text/plain": [
       "'4'"
      ]
     },
     "execution_count": 2,
     "metadata": {},
     "output_type": "execute_result"
    }
   ],
   "source": [
    "num1"
   ]
  },
  {
   "cell_type": "code",
   "execution_count": 3,
   "id": "393bb183",
   "metadata": {},
   "outputs": [
    {
     "data": {
      "text/plain": [
       "'5'"
      ]
     },
     "execution_count": 3,
     "metadata": {},
     "output_type": "execute_result"
    }
   ],
   "source": [
    "num2"
   ]
  },
  {
   "cell_type": "code",
   "execution_count": 4,
   "id": "39baa94f",
   "metadata": {},
   "outputs": [
    {
     "data": {
      "text/plain": [
       "str"
      ]
     },
     "execution_count": 4,
     "metadata": {},
     "output_type": "execute_result"
    }
   ],
   "source": [
    "type(num1)"
   ]
  },
  {
   "cell_type": "code",
   "execution_count": 5,
   "id": "061db9aa",
   "metadata": {},
   "outputs": [],
   "source": [
    "num1=int(num1)"
   ]
  },
  {
   "cell_type": "code",
   "execution_count": 6,
   "id": "430983db",
   "metadata": {},
   "outputs": [
    {
     "data": {
      "text/plain": [
       "int"
      ]
     },
     "execution_count": 6,
     "metadata": {},
     "output_type": "execute_result"
    }
   ],
   "source": [
    "type(num1)"
   ]
  },
  {
   "cell_type": "code",
   "execution_count": null,
   "id": "db4eee12",
   "metadata": {},
   "outputs": [],
   "source": []
  }
 ],
 "metadata": {
  "kernelspec": {
   "display_name": "Python 3",
   "language": "python",
   "name": "python3"
  },
  "language_info": {
   "codemirror_mode": {
    "name": "ipython",
    "version": 3
   },
   "file_extension": ".py",
   "mimetype": "text/x-python",
   "name": "python",
   "nbconvert_exporter": "python",
   "pygments_lexer": "ipython3",
   "version": "3.8.8"
  }
 },
 "nbformat": 4,
 "nbformat_minor": 5
}
