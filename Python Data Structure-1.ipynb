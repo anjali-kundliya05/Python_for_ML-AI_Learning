{
 "cells": [
  {
   "cell_type": "code",
   "execution_count": 5,
   "id": "af788b16",
   "metadata": {},
   "outputs": [],
   "source": [
    "name=\"Anjali\"\n",
    "eng=95\n",
    "hin=90\n",
    "math=90\n",
    "sci=87\n",
    "sst=85"
   ]
  },
  {
   "cell_type": "code",
   "execution_count": 6,
   "id": "9020ee69",
   "metadata": {},
   "outputs": [
    {
     "name": "stdout",
     "output_type": "stream",
     "text": [
      "111.75\n"
     ]
    }
   ],
   "source": [
    "print((eng+hin+math+sci+sst)/4)"
   ]
  },
  {
   "cell_type": "code",
   "execution_count": 7,
   "id": "54d6e3cf",
   "metadata": {},
   "outputs": [],
   "source": [
    "names=[]"
   ]
  },
  {
   "cell_type": "code",
   "execution_count": 8,
   "id": "0ece0705",
   "metadata": {},
   "outputs": [],
   "source": [
    "names.append(\"Anjali\")"
   ]
  },
  {
   "cell_type": "code",
   "execution_count": 9,
   "id": "20b900c2",
   "metadata": {},
   "outputs": [
    {
     "data": {
      "text/plain": [
       "['Anjali']"
      ]
     },
     "execution_count": 9,
     "metadata": {},
     "output_type": "execute_result"
    }
   ],
   "source": [
    "names"
   ]
  },
  {
   "cell_type": "code",
   "execution_count": 10,
   "id": "1f86c952",
   "metadata": {},
   "outputs": [],
   "source": [
    "names.append(\"Ayushi\")"
   ]
  },
  {
   "cell_type": "code",
   "execution_count": 11,
   "id": "2ce72dd9",
   "metadata": {},
   "outputs": [
    {
     "data": {
      "text/plain": [
       "['Anjali', 'Ayushi']"
      ]
     },
     "execution_count": 11,
     "metadata": {},
     "output_type": "execute_result"
    }
   ],
   "source": [
    "names"
   ]
  },
  {
   "cell_type": "code",
   "execution_count": 13,
   "id": "da851fcd",
   "metadata": {},
   "outputs": [
    {
     "name": "stdout",
     "output_type": "stream",
     "text": [
      "Enter the names of students: 5\n",
      "Enter the name of student: anjali\n",
      "anjali\n",
      "Enter the name of student: ayushi\n",
      "ayushi\n",
      "Enter the name of student: ashu\n",
      "ashu\n",
      "Enter the name of student: aditya\n",
      "aditya\n",
      "Enter the name of student: himani\n",
      "himani\n"
     ]
    }
   ],
   "source": [
    "names_of_students=int(input(\"Enter the names of students: \"))\n",
    "\n",
    "for i in range(names_of_students):\n",
    "    name=input(\"Enter the name of student: \")\n",
    "    names.append(name)\n",
    "    print(name)"
   ]
  },
  {
   "cell_type": "code",
   "execution_count": 15,
   "id": "5498c272",
   "metadata": {},
   "outputs": [
    {
     "data": {
      "text/plain": [
       "['Anjali', 'Ayushi', 'anjali', 'ayushi', 'ashu', 'aditya', 'himani']"
      ]
     },
     "execution_count": 15,
     "metadata": {},
     "output_type": "execute_result"
    }
   ],
   "source": [
    "names"
   ]
  }
 ],
 "metadata": {
  "kernelspec": {
   "display_name": "Python 3",
   "language": "python",
   "name": "python3"
  },
  "language_info": {
   "codemirror_mode": {
    "name": "ipython",
    "version": 3
   },
   "file_extension": ".py",
   "mimetype": "text/x-python",
   "name": "python",
   "nbconvert_exporter": "python",
   "pygments_lexer": "ipython3",
   "version": "3.8.8"
  }
 },
 "nbformat": 4,
 "nbformat_minor": 5
}
