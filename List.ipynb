{
 "cells": [
  {
   "cell_type": "code",
   "execution_count": 1,
   "id": "18f38244",
   "metadata": {},
   "outputs": [],
   "source": [
    "lst=[1,2,3,4]"
   ]
  },
  {
   "cell_type": "code",
   "execution_count": 2,
   "id": "a00992c6",
   "metadata": {},
   "outputs": [
    {
     "data": {
      "text/plain": [
       "[1, 2, 3, 4]"
      ]
     },
     "execution_count": 2,
     "metadata": {},
     "output_type": "execute_result"
    }
   ],
   "source": [
    "lst"
   ]
  },
  {
   "cell_type": "code",
   "execution_count": 3,
   "id": "4715488c",
   "metadata": {},
   "outputs": [
    {
     "data": {
      "text/plain": [
       "3"
      ]
     },
     "execution_count": 3,
     "metadata": {},
     "output_type": "execute_result"
    }
   ],
   "source": [
    "lst[2]"
   ]
  },
  {
   "cell_type": "code",
   "execution_count": 5,
   "id": "386a6e8b",
   "metadata": {},
   "outputs": [
    {
     "name": "stdout",
     "output_type": "stream",
     "text": [
      "1\n",
      "2\n",
      "3\n",
      "4\n"
     ]
    }
   ],
   "source": [
    "for i in range(len(lst)):\n",
    "    print(lst[i])"
   ]
  },
  {
   "cell_type": "code",
   "execution_count": 6,
   "id": "2094f1e6",
   "metadata": {},
   "outputs": [
    {
     "name": "stdout",
     "output_type": "stream",
     "text": [
      "1\n",
      "2\n",
      "3\n",
      "4\n"
     ]
    }
   ],
   "source": [
    "for i in lst:\n",
    "    print(i)"
   ]
  },
  {
   "cell_type": "code",
   "execution_count": 7,
   "id": "1a6c54ce",
   "metadata": {},
   "outputs": [
    {
     "data": {
      "text/plain": [
       "[4]"
      ]
     },
     "execution_count": 7,
     "metadata": {},
     "output_type": "execute_result"
    }
   ],
   "source": [
    "lst[3:]"
   ]
  },
  {
   "cell_type": "code",
   "execution_count": 8,
   "id": "4b9ff045",
   "metadata": {},
   "outputs": [
    {
     "data": {
      "text/plain": [
       "[4, 3, 2, 1]"
      ]
     },
     "execution_count": 8,
     "metadata": {},
     "output_type": "execute_result"
    }
   ],
   "source": [
    "lst[::-1]"
   ]
  },
  {
   "cell_type": "markdown",
   "id": "fde2a0cb",
   "metadata": {},
   "source": [
    "# Nested Loop"
   ]
  },
  {
   "cell_type": "code",
   "execution_count": 9,
   "id": "517fd597",
   "metadata": {},
   "outputs": [],
   "source": [
    "data=[['Anjali', 'Rahul', 'Himanshi'],\n",
    " ['90', '89', '93'],\n",
    " ['95', '76', '67'],\n",
    " ['87', '65', '58'],\n",
    " ['90', '70', '60'],\n",
    " ['87', '80', '70']]"
   ]
  },
  {
   "cell_type": "code",
   "execution_count": 10,
   "id": "14b56a02",
   "metadata": {},
   "outputs": [
    {
     "data": {
      "text/plain": [
       "['95', '76', '67']"
      ]
     },
     "execution_count": 10,
     "metadata": {},
     "output_type": "execute_result"
    }
   ],
   "source": [
    "data[2]"
   ]
  },
  {
   "cell_type": "code",
   "execution_count": 11,
   "id": "70ba1df9",
   "metadata": {},
   "outputs": [
    {
     "name": "stdout",
     "output_type": "stream",
     "text": [
      "['Anjali', 'Rahul', 'Himanshi']\n",
      "['90', '89', '93']\n",
      "['95', '76', '67']\n",
      "['87', '65', '58']\n",
      "['90', '70', '60']\n",
      "['87', '80', '70']\n"
     ]
    }
   ],
   "source": [
    "for i in data:\n",
    "    print(i)"
   ]
  },
  {
   "cell_type": "code",
   "execution_count": 12,
   "id": "c85cf506",
   "metadata": {},
   "outputs": [
    {
     "name": "stdout",
     "output_type": "stream",
     "text": [
      "['Anjali', 'Rahul', 'Himanshi']\n",
      "Anjali\n",
      "Rahul\n",
      "Himanshi\n",
      "['90', '89', '93']\n",
      "90\n",
      "89\n",
      "93\n",
      "['95', '76', '67']\n",
      "95\n",
      "76\n",
      "67\n",
      "['87', '65', '58']\n",
      "87\n",
      "65\n",
      "58\n",
      "['90', '70', '60']\n",
      "90\n",
      "70\n",
      "60\n",
      "['87', '80', '70']\n",
      "87\n",
      "80\n",
      "70\n"
     ]
    }
   ],
   "source": [
    "for i in data:\n",
    "    print(i)\n",
    "    for j in i:\n",
    "        print(j)"
   ]
  },
  {
   "cell_type": "code",
   "execution_count": null,
   "id": "b0f78ffc",
   "metadata": {},
   "outputs": [],
   "source": []
  }
 ],
 "metadata": {
  "kernelspec": {
   "display_name": "Python 3",
   "language": "python",
   "name": "python3"
  },
  "language_info": {
   "codemirror_mode": {
    "name": "ipython",
    "version": 3
   },
   "file_extension": ".py",
   "mimetype": "text/x-python",
   "name": "python",
   "nbconvert_exporter": "python",
   "pygments_lexer": "ipython3",
   "version": "3.8.8"
  }
 },
 "nbformat": 4,
 "nbformat_minor": 5
}
