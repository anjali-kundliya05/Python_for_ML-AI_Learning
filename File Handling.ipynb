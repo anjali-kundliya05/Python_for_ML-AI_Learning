{
 "cells": [
  {
   "cell_type": "code",
   "execution_count": 18,
   "id": "548ddbc6",
   "metadata": {},
   "outputs": [
    {
     "name": "stdout",
     "output_type": "stream",
     "text": [
      "The term happiness is used in the context of mental or emotional states, including positive or pleasant emotions ranging from contentment to intense joy. \n",
      "It is also used in the context of life satisfaction, subjective well-being, eudaimonia, flourishing and well-being.\n"
     ]
    }
   ],
   "source": [
    "fd=open(\"File.txt\",\"r\")\n",
    "print(fd.read())\n",
    "fd.close()"
   ]
  },
  {
   "cell_type": "code",
   "execution_count": 19,
   "id": "1136376c",
   "metadata": {},
   "outputs": [],
   "source": [
    "fd=open(\"File.txt\",\"r\")\n",
    "txt=fd.read()\n",
    "fd.close()"
   ]
  },
  {
   "cell_type": "code",
   "execution_count": 20,
   "id": "d42468ba",
   "metadata": {},
   "outputs": [
    {
     "data": {
      "text/plain": [
       "str"
      ]
     },
     "execution_count": 20,
     "metadata": {},
     "output_type": "execute_result"
    }
   ],
   "source": [
    "type(txt)"
   ]
  },
  {
   "cell_type": "code",
   "execution_count": 21,
   "id": "94792474",
   "metadata": {},
   "outputs": [
    {
     "data": {
      "text/plain": [
       "'The term happiness is used in the context of mental or emotional states, including positive or pleasant emotions ranging from contentment to intense joy. \\nIt is also used in the context of life satisfaction, subjective well-being, eudaimonia, flourishing and well-being.'"
      ]
     },
     "execution_count": 21,
     "metadata": {},
     "output_type": "execute_result"
    }
   ],
   "source": [
    "txt"
   ]
  },
  {
   "cell_type": "code",
   "execution_count": 22,
   "id": "e36378f3",
   "metadata": {},
   "outputs": [],
   "source": [
    "var=txt.split(\"\\n\")"
   ]
  },
  {
   "cell_type": "code",
   "execution_count": 23,
   "id": "840864f0",
   "metadata": {},
   "outputs": [
    {
     "data": {
      "text/plain": [
       "['The term happiness is used in the context of mental or emotional states, including positive or pleasant emotions ranging from contentment to intense joy. ',\n",
       " 'It is also used in the context of life satisfaction, subjective well-being, eudaimonia, flourishing and well-being.']"
      ]
     },
     "execution_count": 23,
     "metadata": {},
     "output_type": "execute_result"
    }
   ],
   "source": [
    "var"
   ]
  },
  {
   "cell_type": "code",
   "execution_count": 24,
   "id": "a92b29f1",
   "metadata": {},
   "outputs": [
    {
     "data": {
      "text/plain": [
       "270"
      ]
     },
     "execution_count": 24,
     "metadata": {},
     "output_type": "execute_result"
    }
   ],
   "source": [
    "len(txt)"
   ]
  },
  {
   "cell_type": "code",
   "execution_count": 25,
   "id": "3400863a",
   "metadata": {},
   "outputs": [],
   "source": [
    "words=txt.split(\" \")"
   ]
  },
  {
   "cell_type": "code",
   "execution_count": 26,
   "id": "98cfabf2",
   "metadata": {},
   "outputs": [
    {
     "data": {
      "text/plain": [
       "['The',\n",
       " 'term',\n",
       " 'happiness',\n",
       " 'is',\n",
       " 'used',\n",
       " 'in',\n",
       " 'the',\n",
       " 'context',\n",
       " 'of',\n",
       " 'mental',\n",
       " 'or',\n",
       " 'emotional',\n",
       " 'states,',\n",
       " 'including',\n",
       " 'positive',\n",
       " 'or',\n",
       " 'pleasant',\n",
       " 'emotions',\n",
       " 'ranging',\n",
       " 'from',\n",
       " 'contentment',\n",
       " 'to',\n",
       " 'intense',\n",
       " 'joy.',\n",
       " '\\nIt',\n",
       " 'is',\n",
       " 'also',\n",
       " 'used',\n",
       " 'in',\n",
       " 'the',\n",
       " 'context',\n",
       " 'of',\n",
       " 'life',\n",
       " 'satisfaction,',\n",
       " 'subjective',\n",
       " 'well-being,',\n",
       " 'eudaimonia,',\n",
       " 'flourishing',\n",
       " 'and',\n",
       " 'well-being.']"
      ]
     },
     "execution_count": 26,
     "metadata": {},
     "output_type": "execute_result"
    }
   ],
   "source": [
    "words"
   ]
  },
  {
   "cell_type": "code",
   "execution_count": 27,
   "id": "28eec2ca",
   "metadata": {},
   "outputs": [
    {
     "data": {
      "text/plain": [
       "40"
      ]
     },
     "execution_count": 27,
     "metadata": {},
     "output_type": "execute_result"
    }
   ],
   "source": [
    "len(words)"
   ]
  },
  {
   "cell_type": "code",
   "execution_count": 28,
   "id": "71140be8",
   "metadata": {},
   "outputs": [
    {
     "data": {
      "text/plain": [
       "33"
      ]
     },
     "execution_count": 28,
     "metadata": {},
     "output_type": "execute_result"
    }
   ],
   "source": [
    "len(set(words))"
   ]
  },
  {
   "cell_type": "code",
   "execution_count": 29,
   "id": "0ba455d1",
   "metadata": {},
   "outputs": [],
   "source": [
    "lines=txt.split(\".\")"
   ]
  },
  {
   "cell_type": "code",
   "execution_count": 30,
   "id": "65992372",
   "metadata": {},
   "outputs": [
    {
     "data": {
      "text/plain": [
       "['The term happiness is used in the context of mental or emotional states, including positive or pleasant emotions ranging from contentment to intense joy',\n",
       " ' \\nIt is also used in the context of life satisfaction, subjective well-being, eudaimonia, flourishing and well-being',\n",
       " '']"
      ]
     },
     "execution_count": 30,
     "metadata": {},
     "output_type": "execute_result"
    }
   ],
   "source": [
    "lines"
   ]
  },
  {
   "cell_type": "code",
   "execution_count": null,
   "id": "e41fe738",
   "metadata": {},
   "outputs": [],
   "source": []
  }
 ],
 "metadata": {
  "kernelspec": {
   "display_name": "Python 3",
   "language": "python",
   "name": "python3"
  },
  "language_info": {
   "codemirror_mode": {
    "name": "ipython",
    "version": 3
   },
   "file_extension": ".py",
   "mimetype": "text/x-python",
   "name": "python",
   "nbconvert_exporter": "python",
   "pygments_lexer": "ipython3",
   "version": "3.8.8"
  }
 },
 "nbformat": 4,
 "nbformat_minor": 5
}
