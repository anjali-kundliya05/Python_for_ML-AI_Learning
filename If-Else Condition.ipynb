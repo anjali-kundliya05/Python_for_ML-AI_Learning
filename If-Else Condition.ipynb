{
 "cells": [
  {
   "cell_type": "code",
   "execution_count": 1,
   "id": "272b14f8",
   "metadata": {},
   "outputs": [],
   "source": [
    "age=18"
   ]
  },
  {
   "cell_type": "code",
   "execution_count": 5,
   "id": "804ffcff",
   "metadata": {},
   "outputs": [
    {
     "name": "stdout",
     "output_type": "stream",
     "text": [
      "You can't Vote!\n"
     ]
    }
   ],
   "source": [
    "if(age>18 and age<=20):\n",
    "    print(\"You can Vote!\")\n",
    "else:\n",
    "    print(\"You can't Vote!\")"
   ]
  },
  {
   "cell_type": "code",
   "execution_count": 6,
   "id": "74cef512",
   "metadata": {},
   "outputs": [],
   "source": [
    "age=125"
   ]
  },
  {
   "cell_type": "code",
   "execution_count": 7,
   "id": "46e430b9",
   "metadata": {},
   "outputs": [
    {
     "name": "stdout",
     "output_type": "stream",
     "text": [
      "You can't vote!\n"
     ]
    }
   ],
   "source": [
    "if(age>=18 and age<=120):\n",
    "    print(\"You can Vote!\")\n",
    "else:\n",
    "    print(\"You can't vote!\")"
   ]
  },
  {
   "cell_type": "code",
   "execution_count": 8,
   "id": "a6a3d6b4",
   "metadata": {},
   "outputs": [],
   "source": [
    "drinks=True\n",
    "maggie=False\n",
    "coffee=True\n",
    "water=True"
   ]
  },
  {
   "cell_type": "code",
   "execution_count": 10,
   "id": "7fd96c44",
   "metadata": {},
   "outputs": [
    {
     "name": "stdout",
     "output_type": "stream",
     "text": [
      "Enjoy your drinks!\n"
     ]
    }
   ],
   "source": [
    "if(drinks==True):\n",
    "    print('Enjoy your drinks!')\n",
    "elif(maggie==True):\n",
    "    print('Enjoy your Maggie!')\n",
    "elif(coffee==True):\n",
    "    print(\"Enjoy your coffee!\")\n",
    "else:\n",
    "    print(\"Enjoy you water!\")"
   ]
  },
  {
   "cell_type": "code",
   "execution_count": null,
   "id": "04d17e8b",
   "metadata": {},
   "outputs": [],
   "source": []
  }
 ],
 "metadata": {
  "kernelspec": {
   "display_name": "Python 3",
   "language": "python",
   "name": "python3"
  },
  "language_info": {
   "codemirror_mode": {
    "name": "ipython",
    "version": 3
   },
   "file_extension": ".py",
   "mimetype": "text/x-python",
   "name": "python",
   "nbconvert_exporter": "python",
   "pygments_lexer": "ipython3",
   "version": "3.8.8"
  }
 },
 "nbformat": 4,
 "nbformat_minor": 5
}
