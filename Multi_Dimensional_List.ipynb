{
  "nbformat": 4,
  "nbformat_minor": 0,
  "metadata": {
    "colab": {
      "name": "Multi Dimensional List.ipynb",
      "provenance": []
    },
    "kernelspec": {
      "name": "python3",
      "display_name": "Python 3"
    },
    "language_info": {
      "name": "python"
    }
  },
  "cells": [
    {
      "cell_type": "code",
      "metadata": {
        "id": "yM-Ak8gnwKXS"
      },
      "source": [
        "lst=[1,2,3,4]"
      ],
      "execution_count": null,
      "outputs": []
    },
    {
      "cell_type": "code",
      "metadata": {
        "colab": {
          "base_uri": "https://localhost:8080/"
        },
        "id": "lFxHL4YBwTUt",
        "outputId": "a994bd39-f0bd-4571-e953-5e59f66f3053"
      },
      "source": [
        "type(lst)"
      ],
      "execution_count": null,
      "outputs": [
        {
          "output_type": "execute_result",
          "data": {
            "text/plain": [
              "list"
            ]
          },
          "metadata": {},
          "execution_count": 2
        }
      ]
    },
    {
      "cell_type": "code",
      "metadata": {
        "id": "Ee6NESDqwV9e"
      },
      "source": [
        "lst=[[1,2,3,4],\n",
        "     [1,2,3,4],\n",
        "     [1,2,3,4],\n",
        "     [1,2,3,4]]\n"
      ],
      "execution_count": null,
      "outputs": []
    },
    {
      "cell_type": "code",
      "metadata": {
        "colab": {
          "base_uri": "https://localhost:8080/"
        },
        "id": "1jq3lpmJwjbf",
        "outputId": "364b9726-d233-4649-8c2b-de63cab89a91"
      },
      "source": [
        "lst"
      ],
      "execution_count": null,
      "outputs": [
        {
          "output_type": "execute_result",
          "data": {
            "text/plain": [
              "[[1, 2, 3, 4], [1, 2, 3, 4], [1, 2, 3, 4], [1, 2, 3, 4]]"
            ]
          },
          "metadata": {},
          "execution_count": 4
        }
      ]
    },
    {
      "cell_type": "code",
      "metadata": {
        "id": "SLFmOMyOwj87"
      },
      "source": [
        "lst=[[1,2,3],[4,5,6],[7,8,9],\n",
        "     [1,2,3],[4,5,6],[7,8,9],\n",
        "     [1,2,3],[4,5,6],[7,8,9],\n",
        "     [1,2,3],[4,5,6],[7,8,9]]"
      ],
      "execution_count": null,
      "outputs": []
    },
    {
      "cell_type": "code",
      "metadata": {
        "colab": {
          "base_uri": "https://localhost:8080/"
        },
        "id": "L4zVjlaMxI7I",
        "outputId": "ed6c71ff-ac08-4bdf-d48e-e686d7ff3480"
      },
      "source": [
        "lst"
      ],
      "execution_count": null,
      "outputs": [
        {
          "output_type": "execute_result",
          "data": {
            "text/plain": [
              "[[1, 2, 3],\n",
              " [4, 5, 6],\n",
              " [7, 8, 9],\n",
              " [1, 2, 3],\n",
              " [4, 5, 6],\n",
              " [7, 8, 9],\n",
              " [1, 2, 3],\n",
              " [4, 5, 6],\n",
              " [7, 8, 9],\n",
              " [1, 2, 3],\n",
              " [4, 5, 6],\n",
              " [7, 8, 9]]"
            ]
          },
          "metadata": {},
          "execution_count": 6
        }
      ]
    },
    {
      "cell_type": "code",
      "metadata": {
        "colab": {
          "base_uri": "https://localhost:8080/"
        },
        "id": "HcKgMFEyxJYH",
        "outputId": "e5885d2c-6647-4c11-819b-66678b39abed"
      },
      "source": [
        "lst[2]"
      ],
      "execution_count": null,
      "outputs": [
        {
          "output_type": "execute_result",
          "data": {
            "text/plain": [
              "[7, 8, 9]"
            ]
          },
          "metadata": {},
          "execution_count": 7
        }
      ]
    },
    {
      "cell_type": "code",
      "metadata": {
        "id": "ptXOT-UhxPXL"
      },
      "source": [
        "lst=[[1,2,3],[4,5,6],[7,8,9],\n",
        "     [1,2,3],[4,5,6],[7,8,9],\n",
        "     [1,2,3],[4,5,6],[7,8,9],\n",
        "     [1,2,3],[4,5,6],[7,8,9]]"
      ],
      "execution_count": null,
      "outputs": []
    },
    {
      "cell_type": "code",
      "metadata": {
        "colab": {
          "base_uri": "https://localhost:8080/"
        },
        "id": "AhQWX18nxXiS",
        "outputId": "e6908a86-dc44-434a-f648-eb25fe6ec8f2"
      },
      "source": [
        "lst[3][2]"
      ],
      "execution_count": null,
      "outputs": [
        {
          "output_type": "execute_result",
          "data": {
            "text/plain": [
              "3"
            ]
          },
          "metadata": {},
          "execution_count": 9
        }
      ]
    },
    {
      "cell_type": "code",
      "metadata": {
        "id": "PEQjElAaxbxM"
      },
      "source": [
        "lst=[[1, \"Anjali\", 90,80],\n",
        "     [2, \"Anamika\", 87,70],\n",
        "     [3, \"Ritik\", 86,70]]"
      ],
      "execution_count": null,
      "outputs": []
    },
    {
      "cell_type": "code",
      "metadata": {
        "colab": {
          "base_uri": "https://localhost:8080/"
        },
        "id": "WwXRbizzx8SM",
        "outputId": "f06697ca-029a-41c4-ca4a-8857f6ea2d10"
      },
      "source": [
        "lst[0][2]"
      ],
      "execution_count": null,
      "outputs": [
        {
          "output_type": "execute_result",
          "data": {
            "text/plain": [
              "90"
            ]
          },
          "metadata": {},
          "execution_count": 15
        }
      ]
    },
    {
      "cell_type": "code",
      "metadata": {
        "colab": {
          "base_uri": "https://localhost:8080/"
        },
        "id": "CN3ciRhlyAcY",
        "outputId": "57587c22-ee3e-423d-9ad9-5098a11f8fe5"
      },
      "source": [
        "for i in lst:\n",
        "  print(i)"
      ],
      "execution_count": null,
      "outputs": [
        {
          "output_type": "stream",
          "name": "stdout",
          "text": [
            "[1, 'Anjali', 90, 80]\n",
            "[2, 'Anamika', 87, 70]\n",
            "[3, 'Ritik', 86, 70]\n"
          ]
        }
      ]
    },
    {
      "cell_type": "code",
      "metadata": {
        "colab": {
          "base_uri": "https://localhost:8080/"
        },
        "id": "YodZ07LsyIwD",
        "outputId": "b504f5dc-4b16-4236-e9fe-1babbbe3da90"
      },
      "source": [
        "roll_no=int(input(\"Enter a roll no: \"))\n",
        "for i in lst:\n",
        "  print(i)\n",
        "  if (roll_no==i[0]):\n",
        "    print(\"Res: \",i)"
      ],
      "execution_count": null,
      "outputs": [
        {
          "output_type": "stream",
          "name": "stdout",
          "text": [
            "Enter a roll no: 2\n",
            "[1, 'Anjali', 90, 80]\n",
            "[2, 'Anamika', 87, 70]\n",
            "Res:  [2, 'Anamika', 87, 70]\n",
            "[3, 'Ritik', 86, 70]\n"
          ]
        }
      ]
    },
    {
      "cell_type": "code",
      "metadata": {
        "colab": {
          "base_uri": "https://localhost:8080/"
        },
        "id": "WWJI14k5yizK",
        "outputId": "cf191291-bf98-4908-83a7-6b770c3acefb"
      },
      "source": [
        "roll_no=int(input(\"Enter a roll no: \"))\n",
        "for i in lst:\n",
        "  if (roll_no==i[0]):\n",
        "    print(\"Name: \",i[1])\n",
        "    print(\"Eng: \",i[2])\n",
        "    print(\"Hin: \",i[3])\n",
        "    print((((i[2])+(i[3]))/200)*100)"
      ],
      "execution_count": null,
      "outputs": [
        {
          "output_type": "stream",
          "name": "stdout",
          "text": [
            "Enter a roll no: 3\n",
            "Name:  Ritik\n",
            "Eng:  86\n",
            "Hin:  70\n",
            "78.0\n"
          ]
        }
      ]
    },
    {
      "cell_type": "code",
      "metadata": {
        "id": "gMlVIh7Hy_mp"
      },
      "source": [
        ""
      ],
      "execution_count": null,
      "outputs": []
    }
  ]
}